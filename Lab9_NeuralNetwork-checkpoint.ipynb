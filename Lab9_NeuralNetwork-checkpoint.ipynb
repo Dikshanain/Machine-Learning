{
 "cells": [
  {
   "cell_type": "markdown",
   "id": "5f1b0a01",
   "metadata": {},
   "source": [
    "# Perceptron(Single Layer Neural Network)"
   ]
  },
  {
   "cell_type": "code",
   "execution_count": 1,
   "id": "b25e3814",
   "metadata": {},
   "outputs": [],
   "source": [
    "import numpy as np\n",
    "import pandas as pd\n",
    "import seaborn as sns\n",
    "import matplotlib.pyplot as plt"
   ]
  },
  {
   "cell_type": "code",
   "execution_count": 2,
   "id": "9a029a7f",
   "metadata": {},
   "outputs": [],
   "source": [
    "df=pd.read_csv('loan.csv')"
   ]
  },
  {
   "cell_type": "code",
   "execution_count": 3,
   "id": "dd9c6043",
   "metadata": {},
   "outputs": [
    {
     "data": {
      "text/html": [
       "<div>\n",
       "<style scoped>\n",
       "    .dataframe tbody tr th:only-of-type {\n",
       "        vertical-align: middle;\n",
       "    }\n",
       "\n",
       "    .dataframe tbody tr th {\n",
       "        vertical-align: top;\n",
       "    }\n",
       "\n",
       "    .dataframe thead th {\n",
       "        text-align: right;\n",
       "    }\n",
       "</style>\n",
       "<table border=\"1\" class=\"dataframe\">\n",
       "  <thead>\n",
       "    <tr style=\"text-align: right;\">\n",
       "      <th></th>\n",
       "      <th>Age</th>\n",
       "      <th>Income</th>\n",
       "      <th>Credit Score</th>\n",
       "      <th>Loan Status</th>\n",
       "    </tr>\n",
       "  </thead>\n",
       "  <tbody>\n",
       "    <tr>\n",
       "      <th>0</th>\n",
       "      <td>35</td>\n",
       "      <td>50000</td>\n",
       "      <td>700</td>\n",
       "      <td>1</td>\n",
       "    </tr>\n",
       "    <tr>\n",
       "      <th>1</th>\n",
       "      <td>42</td>\n",
       "      <td>60000</td>\n",
       "      <td>720</td>\n",
       "      <td>1</td>\n",
       "    </tr>\n",
       "    <tr>\n",
       "      <th>2</th>\n",
       "      <td>28</td>\n",
       "      <td>45000</td>\n",
       "      <td>680</td>\n",
       "      <td>0</td>\n",
       "    </tr>\n",
       "    <tr>\n",
       "      <th>3</th>\n",
       "      <td>55</td>\n",
       "      <td>80000</td>\n",
       "      <td>750</td>\n",
       "      <td>1</td>\n",
       "    </tr>\n",
       "    <tr>\n",
       "      <th>4</th>\n",
       "      <td>48</td>\n",
       "      <td>70000</td>\n",
       "      <td>730</td>\n",
       "      <td>1</td>\n",
       "    </tr>\n",
       "  </tbody>\n",
       "</table>\n",
       "</div>"
      ],
      "text/plain": [
       "   Age  Income  Credit Score  Loan Status\n",
       "0   35   50000           700            1\n",
       "1   42   60000           720            1\n",
       "2   28   45000           680            0\n",
       "3   55   80000           750            1\n",
       "4   48   70000           730            1"
      ]
     },
     "execution_count": 3,
     "metadata": {},
     "output_type": "execute_result"
    }
   ],
   "source": [
    "df.head()"
   ]
  },
  {
   "cell_type": "code",
   "execution_count": 4,
   "id": "e7503bca",
   "metadata": {},
   "outputs": [],
   "source": [
    "from sklearn.model_selection import train_test_split\n",
    "X = df.drop('Loan Status', axis=1)\n",
    "y = df['Loan Status']\n",
    "X_train, X_test, y_train, y_test = train_test_split(X, y, test_size=0.2, random_state=9)\n"
   ]
  },
  {
   "cell_type": "code",
   "execution_count": 5,
   "id": "563f84c6",
   "metadata": {},
   "outputs": [],
   "source": [
    "from sklearn.linear_model import Perceptron\n",
    "p=Perceptron()\n"
   ]
  },
  {
   "cell_type": "code",
   "execution_count": 6,
   "id": "c8fcdb56",
   "metadata": {},
   "outputs": [
    {
     "data": {
      "text/html": [
       "<style>#sk-container-id-1 {color: black;background-color: white;}#sk-container-id-1 pre{padding: 0;}#sk-container-id-1 div.sk-toggleable {background-color: white;}#sk-container-id-1 label.sk-toggleable__label {cursor: pointer;display: block;width: 100%;margin-bottom: 0;padding: 0.3em;box-sizing: border-box;text-align: center;}#sk-container-id-1 label.sk-toggleable__label-arrow:before {content: \"▸\";float: left;margin-right: 0.25em;color: #696969;}#sk-container-id-1 label.sk-toggleable__label-arrow:hover:before {color: black;}#sk-container-id-1 div.sk-estimator:hover label.sk-toggleable__label-arrow:before {color: black;}#sk-container-id-1 div.sk-toggleable__content {max-height: 0;max-width: 0;overflow: hidden;text-align: left;background-color: #f0f8ff;}#sk-container-id-1 div.sk-toggleable__content pre {margin: 0.2em;color: black;border-radius: 0.25em;background-color: #f0f8ff;}#sk-container-id-1 input.sk-toggleable__control:checked~div.sk-toggleable__content {max-height: 200px;max-width: 100%;overflow: auto;}#sk-container-id-1 input.sk-toggleable__control:checked~label.sk-toggleable__label-arrow:before {content: \"▾\";}#sk-container-id-1 div.sk-estimator input.sk-toggleable__control:checked~label.sk-toggleable__label {background-color: #d4ebff;}#sk-container-id-1 div.sk-label input.sk-toggleable__control:checked~label.sk-toggleable__label {background-color: #d4ebff;}#sk-container-id-1 input.sk-hidden--visually {border: 0;clip: rect(1px 1px 1px 1px);clip: rect(1px, 1px, 1px, 1px);height: 1px;margin: -1px;overflow: hidden;padding: 0;position: absolute;width: 1px;}#sk-container-id-1 div.sk-estimator {font-family: monospace;background-color: #f0f8ff;border: 1px dotted black;border-radius: 0.25em;box-sizing: border-box;margin-bottom: 0.5em;}#sk-container-id-1 div.sk-estimator:hover {background-color: #d4ebff;}#sk-container-id-1 div.sk-parallel-item::after {content: \"\";width: 100%;border-bottom: 1px solid gray;flex-grow: 1;}#sk-container-id-1 div.sk-label:hover label.sk-toggleable__label {background-color: #d4ebff;}#sk-container-id-1 div.sk-serial::before {content: \"\";position: absolute;border-left: 1px solid gray;box-sizing: border-box;top: 0;bottom: 0;left: 50%;z-index: 0;}#sk-container-id-1 div.sk-serial {display: flex;flex-direction: column;align-items: center;background-color: white;padding-right: 0.2em;padding-left: 0.2em;position: relative;}#sk-container-id-1 div.sk-item {position: relative;z-index: 1;}#sk-container-id-1 div.sk-parallel {display: flex;align-items: stretch;justify-content: center;background-color: white;position: relative;}#sk-container-id-1 div.sk-item::before, #sk-container-id-1 div.sk-parallel-item::before {content: \"\";position: absolute;border-left: 1px solid gray;box-sizing: border-box;top: 0;bottom: 0;left: 50%;z-index: -1;}#sk-container-id-1 div.sk-parallel-item {display: flex;flex-direction: column;z-index: 1;position: relative;background-color: white;}#sk-container-id-1 div.sk-parallel-item:first-child::after {align-self: flex-end;width: 50%;}#sk-container-id-1 div.sk-parallel-item:last-child::after {align-self: flex-start;width: 50%;}#sk-container-id-1 div.sk-parallel-item:only-child::after {width: 0;}#sk-container-id-1 div.sk-dashed-wrapped {border: 1px dashed gray;margin: 0 0.4em 0.5em 0.4em;box-sizing: border-box;padding-bottom: 0.4em;background-color: white;}#sk-container-id-1 div.sk-label label {font-family: monospace;font-weight: bold;display: inline-block;line-height: 1.2em;}#sk-container-id-1 div.sk-label-container {text-align: center;}#sk-container-id-1 div.sk-container {/* jupyter's `normalize.less` sets `[hidden] { display: none; }` but bootstrap.min.css set `[hidden] { display: none !important; }` so we also need the `!important` here to be able to override the default hidden behavior on the sphinx rendered scikit-learn.org. See: https://github.com/scikit-learn/scikit-learn/issues/21755 */display: inline-block !important;position: relative;}#sk-container-id-1 div.sk-text-repr-fallback {display: none;}</style><div id=\"sk-container-id-1\" class=\"sk-top-container\"><div class=\"sk-text-repr-fallback\"><pre>Perceptron()</pre><b>In a Jupyter environment, please rerun this cell to show the HTML representation or trust the notebook. <br />On GitHub, the HTML representation is unable to render, please try loading this page with nbviewer.org.</b></div><div class=\"sk-container\" hidden><div class=\"sk-item\"><div class=\"sk-estimator sk-toggleable\"><input class=\"sk-toggleable__control sk-hidden--visually\" id=\"sk-estimator-id-1\" type=\"checkbox\" checked><label for=\"sk-estimator-id-1\" class=\"sk-toggleable__label sk-toggleable__label-arrow\">Perceptron</label><div class=\"sk-toggleable__content\"><pre>Perceptron()</pre></div></div></div></div></div>"
      ],
      "text/plain": [
       "Perceptron()"
      ]
     },
     "execution_count": 6,
     "metadata": {},
     "output_type": "execute_result"
    }
   ],
   "source": [
    "p.fit(X_train,y_train)"
   ]
  },
  {
   "cell_type": "code",
   "execution_count": 7,
   "id": "6ce5d2b9",
   "metadata": {},
   "outputs": [
    {
     "data": {
      "text/plain": [
       "array([[   223.,  32000., -13425.]])"
      ]
     },
     "execution_count": 7,
     "metadata": {},
     "output_type": "execute_result"
    }
   ],
   "source": [
    "p.coef_"
   ]
  },
  {
   "cell_type": "code",
   "execution_count": 8,
   "id": "e0658a19",
   "metadata": {},
   "outputs": [
    {
     "data": {
      "text/plain": [
       "array([-30.])"
      ]
     },
     "execution_count": 8,
     "metadata": {},
     "output_type": "execute_result"
    }
   ],
   "source": [
    "p.intercept_"
   ]
  },
  {
   "cell_type": "code",
   "execution_count": 9,
   "id": "c79c2b36",
   "metadata": {},
   "outputs": [],
   "source": [
    "y_pred=p.predict(X_test)"
   ]
  },
  {
   "cell_type": "code",
   "execution_count": 10,
   "id": "80047d46",
   "metadata": {},
   "outputs": [
    {
     "name": "stdout",
     "output_type": "stream",
     "text": [
      "Accuracy: 1.0\n",
      "Precision: 1.0\n",
      "Recall: 1.0\n",
      "F1-score: 1.0\n"
     ]
    }
   ],
   "source": [
    "from sklearn.metrics import accuracy_score, precision_score, recall_score, f1_score\n",
    "\n",
    "# Accuracy\n",
    "accuracy = accuracy_score(y_test, y_pred)\n",
    "print(\"Accuracy:\", accuracy)\n",
    "\n",
    "# Precision\n",
    "precision = precision_score(y_test, y_pred)\n",
    "print(\"Precision:\", precision)\n",
    "\n",
    "# Recall\n",
    "recall = recall_score(y_test, y_pred)\n",
    "print(\"Recall:\", recall)\n",
    "\n",
    "# F1-score\n",
    "f1 = f1_score(y_test, y_pred)\n",
    "print(\"F1-score:\", f1)\n"
   ]
  },
  {
   "cell_type": "markdown",
   "id": "ddbf7a52",
   "metadata": {},
   "source": [
    "# MultiLayer Neural Network"
   ]
  },
  {
   "cell_type": "code",
   "execution_count": 46,
   "id": "69baf477",
   "metadata": {},
   "outputs": [
    {
     "name": "stdout",
     "output_type": "stream",
     "text": [
      "(132, 3) (34, 3) (132,) (34,)\n",
      "2 2 1 1\n"
     ]
    }
   ],
   "source": [
    "from sklearn.preprocessing import MinMaxScaler\n",
    "scaler=MinMaxScaler()\n",
    "X_train_trf=scaler.fit_transform(X_train)\n",
    "X_test_trf=scaler.transform(X_test)\n",
    "print(X_train_trf.shape,X_test_trf.shape,y_train.shape,y_test.shape)\n",
    "print(X_train_trf.ndim,X_test_trf.ndim,y_train.ndim,y_test.ndim)"
   ]
  },
  {
   "cell_type": "code",
   "execution_count": 47,
   "id": "ac5f58fb",
   "metadata": {},
   "outputs": [],
   "source": [
    "import tensorflow\n",
    "\n",
    "from tensorflow import keras\n",
    "from tensorflow.keras import Sequential \n",
    "from tensorflow.keras.layers import Dense"
   ]
  },
  {
   "cell_type": "code",
   "execution_count": 48,
   "id": "89e53a28",
   "metadata": {},
   "outputs": [],
   "source": [
    "model=Sequential()"
   ]
  },
  {
   "cell_type": "code",
   "execution_count": 49,
   "id": "a3cb4ce0",
   "metadata": {},
   "outputs": [],
   "source": [
    "model.add(Dense(3,activation='relu',input_dim=3)) \n",
    "model.add(Dense(12,activation='linear',input_dim=12)) \n",
    "model.add(Dense(7,activation='sigmoid',input_dim=7)) "
   ]
  },
  {
   "cell_type": "code",
   "execution_count": 50,
   "id": "2bde32de",
   "metadata": {},
   "outputs": [
    {
     "name": "stdout",
     "output_type": "stream",
     "text": [
      "Model: \"sequential_2\"\n",
      "_________________________________________________________________\n",
      " Layer (type)                Output Shape              Param #   \n",
      "=================================================================\n",
      " dense_15 (Dense)            (None, 3)                 12        \n",
      "                                                                 \n",
      " dense_16 (Dense)            (None, 12)                48        \n",
      "                                                                 \n",
      " dense_17 (Dense)            (None, 7)                 91        \n",
      "                                                                 \n",
      "=================================================================\n",
      "Total params: 151 (604.00 Byte)\n",
      "Trainable params: 151 (604.00 Byte)\n",
      "Non-trainable params: 0 (0.00 Byte)\n",
      "_________________________________________________________________\n"
     ]
    }
   ],
   "source": [
    "model.summary()"
   ]
  },
  {
   "cell_type": "code",
   "execution_count": 51,
   "id": "a7683e6c",
   "metadata": {},
   "outputs": [],
   "source": [
    "model.compile(optimizer='Adam',loss='mean_squared_error')"
   ]
  },
  {
   "cell_type": "code",
   "execution_count": 52,
   "id": "2d0496a1",
   "metadata": {},
   "outputs": [
    {
     "name": "stdout",
     "output_type": "stream",
     "text": [
      "Epoch 1/100\n",
      "4/4 [==============================] - 1s 74ms/step - loss: 0.2446 - val_loss: 0.2429\n",
      "Epoch 2/100\n",
      "4/4 [==============================] - 0s 17ms/step - loss: 0.2412 - val_loss: 0.2400\n",
      "Epoch 3/100\n",
      "4/4 [==============================] - 0s 20ms/step - loss: 0.2378 - val_loss: 0.2369\n",
      "Epoch 4/100\n",
      "4/4 [==============================] - 0s 22ms/step - loss: 0.2345 - val_loss: 0.2338\n",
      "Epoch 5/100\n",
      "4/4 [==============================] - 0s 17ms/step - loss: 0.2309 - val_loss: 0.2306\n",
      "Epoch 6/100\n",
      "4/4 [==============================] - 0s 18ms/step - loss: 0.2273 - val_loss: 0.2273\n",
      "Epoch 7/100\n",
      "4/4 [==============================] - 0s 16ms/step - loss: 0.2236 - val_loss: 0.2239\n",
      "Epoch 8/100\n",
      "4/4 [==============================] - 0s 24ms/step - loss: 0.2197 - val_loss: 0.2203\n",
      "Epoch 9/100\n",
      "4/4 [==============================] - 0s 16ms/step - loss: 0.2156 - val_loss: 0.2165\n",
      "Epoch 10/100\n",
      "4/4 [==============================] - 0s 21ms/step - loss: 0.2113 - val_loss: 0.2125\n",
      "Epoch 11/100\n",
      "4/4 [==============================] - 0s 16ms/step - loss: 0.2069 - val_loss: 0.2083\n",
      "Epoch 12/100\n",
      "4/4 [==============================] - 0s 15ms/step - loss: 0.2021 - val_loss: 0.2040\n",
      "Epoch 13/100\n",
      "4/4 [==============================] - 0s 13ms/step - loss: 0.1973 - val_loss: 0.1995\n",
      "Epoch 14/100\n",
      "4/4 [==============================] - 0s 13ms/step - loss: 0.1919 - val_loss: 0.1948\n",
      "Epoch 15/100\n",
      "4/4 [==============================] - 0s 13ms/step - loss: 0.1866 - val_loss: 0.1899\n",
      "Epoch 16/100\n",
      "4/4 [==============================] - 0s 15ms/step - loss: 0.1812 - val_loss: 0.1848\n",
      "Epoch 17/100\n",
      "4/4 [==============================] - 0s 18ms/step - loss: 0.1755 - val_loss: 0.1796\n",
      "Epoch 18/100\n",
      "4/4 [==============================] - 0s 14ms/step - loss: 0.1695 - val_loss: 0.1743\n",
      "Epoch 19/100\n",
      "4/4 [==============================] - 0s 13ms/step - loss: 0.1636 - val_loss: 0.1690\n",
      "Epoch 20/100\n",
      "4/4 [==============================] - 0s 17ms/step - loss: 0.1573 - val_loss: 0.1637\n",
      "Epoch 21/100\n",
      "4/4 [==============================] - 0s 16ms/step - loss: 0.1513 - val_loss: 0.1584\n",
      "Epoch 22/100\n",
      "4/4 [==============================] - 0s 17ms/step - loss: 0.1455 - val_loss: 0.1531\n",
      "Epoch 23/100\n",
      "4/4 [==============================] - 0s 16ms/step - loss: 0.1395 - val_loss: 0.1480\n",
      "Epoch 24/100\n",
      "4/4 [==============================] - 0s 30ms/step - loss: 0.1336 - val_loss: 0.1430\n",
      "Epoch 25/100\n",
      "4/4 [==============================] - 0s 31ms/step - loss: 0.1280 - val_loss: 0.1382\n",
      "Epoch 26/100\n",
      "4/4 [==============================] - 0s 26ms/step - loss: 0.1226 - val_loss: 0.1336\n",
      "Epoch 27/100\n",
      "4/4 [==============================] - 0s 27ms/step - loss: 0.1175 - val_loss: 0.1292\n",
      "Epoch 28/100\n",
      "4/4 [==============================] - 0s 32ms/step - loss: 0.1124 - val_loss: 0.1251\n",
      "Epoch 29/100\n",
      "4/4 [==============================] - 0s 22ms/step - loss: 0.1077 - val_loss: 0.1213\n",
      "Epoch 30/100\n",
      "4/4 [==============================] - 0s 21ms/step - loss: 0.1032 - val_loss: 0.1179\n",
      "Epoch 31/100\n",
      "4/4 [==============================] - 0s 34ms/step - loss: 0.0994 - val_loss: 0.1147\n",
      "Epoch 32/100\n",
      "4/4 [==============================] - 0s 26ms/step - loss: 0.0956 - val_loss: 0.1119\n",
      "Epoch 33/100\n",
      "4/4 [==============================] - 0s 31ms/step - loss: 0.0923 - val_loss: 0.1094\n",
      "Epoch 34/100\n",
      "4/4 [==============================] - 0s 16ms/step - loss: 0.0893 - val_loss: 0.1071\n",
      "Epoch 35/100\n",
      "4/4 [==============================] - 0s 16ms/step - loss: 0.0866 - val_loss: 0.1051\n",
      "Epoch 36/100\n",
      "4/4 [==============================] - 0s 16ms/step - loss: 0.0840 - val_loss: 0.1034\n",
      "Epoch 37/100\n",
      "4/4 [==============================] - 0s 19ms/step - loss: 0.0819 - val_loss: 0.1018\n",
      "Epoch 38/100\n",
      "4/4 [==============================] - 0s 16ms/step - loss: 0.0800 - val_loss: 0.1005\n",
      "Epoch 39/100\n",
      "4/4 [==============================] - 0s 16ms/step - loss: 0.0781 - val_loss: 0.0993\n",
      "Epoch 40/100\n",
      "4/4 [==============================] - 0s 21ms/step - loss: 0.0765 - val_loss: 0.0983\n",
      "Epoch 41/100\n",
      "4/4 [==============================] - 0s 20ms/step - loss: 0.0753 - val_loss: 0.0975\n",
      "Epoch 42/100\n",
      "4/4 [==============================] - 0s 16ms/step - loss: 0.0739 - val_loss: 0.0967\n",
      "Epoch 43/100\n",
      "4/4 [==============================] - 0s 16ms/step - loss: 0.0728 - val_loss: 0.0961\n",
      "Epoch 44/100\n",
      "4/4 [==============================] - 0s 16ms/step - loss: 0.0718 - val_loss: 0.0956\n",
      "Epoch 45/100\n",
      "4/4 [==============================] - 0s 14ms/step - loss: 0.0711 - val_loss: 0.0952\n",
      "Epoch 46/100\n",
      "4/4 [==============================] - 0s 20ms/step - loss: 0.0703 - val_loss: 0.0948\n",
      "Epoch 47/100\n",
      "4/4 [==============================] - 0s 20ms/step - loss: 0.0697 - val_loss: 0.0945\n",
      "Epoch 48/100\n",
      "4/4 [==============================] - 0s 30ms/step - loss: 0.0691 - val_loss: 0.0942\n",
      "Epoch 49/100\n",
      "4/4 [==============================] - 0s 44ms/step - loss: 0.0687 - val_loss: 0.0940\n",
      "Epoch 50/100\n",
      "4/4 [==============================] - 0s 21ms/step - loss: 0.0682 - val_loss: 0.0938\n",
      "Epoch 51/100\n",
      "4/4 [==============================] - 0s 21ms/step - loss: 0.0678 - val_loss: 0.0936\n",
      "Epoch 52/100\n",
      "4/4 [==============================] - 0s 18ms/step - loss: 0.0674 - val_loss: 0.0935\n",
      "Epoch 53/100\n",
      "4/4 [==============================] - 0s 29ms/step - loss: 0.0671 - val_loss: 0.0933\n",
      "Epoch 54/100\n",
      "4/4 [==============================] - 0s 34ms/step - loss: 0.0668 - val_loss: 0.0932\n",
      "Epoch 55/100\n",
      "4/4 [==============================] - 0s 20ms/step - loss: 0.0666 - val_loss: 0.0931\n",
      "Epoch 56/100\n",
      "4/4 [==============================] - 0s 17ms/step - loss: 0.0663 - val_loss: 0.0929\n",
      "Epoch 57/100\n",
      "4/4 [==============================] - 0s 12ms/step - loss: 0.0661 - val_loss: 0.0928\n",
      "Epoch 58/100\n",
      "4/4 [==============================] - 0s 16ms/step - loss: 0.0659 - val_loss: 0.0926\n",
      "Epoch 59/100\n",
      "4/4 [==============================] - 0s 13ms/step - loss: 0.0658 - val_loss: 0.0924\n",
      "Epoch 60/100\n",
      "4/4 [==============================] - 0s 28ms/step - loss: 0.0656 - val_loss: 0.0923\n",
      "Epoch 61/100\n",
      "4/4 [==============================] - 0s 32ms/step - loss: 0.0654 - val_loss: 0.0921\n",
      "Epoch 62/100\n",
      "4/4 [==============================] - 0s 22ms/step - loss: 0.0652 - val_loss: 0.0921\n",
      "Epoch 63/100\n",
      "4/4 [==============================] - 0s 23ms/step - loss: 0.0650 - val_loss: 0.0920\n",
      "Epoch 64/100\n",
      "4/4 [==============================] - 0s 16ms/step - loss: 0.0649 - val_loss: 0.0918\n",
      "Epoch 65/100\n",
      "4/4 [==============================] - 0s 43ms/step - loss: 0.0647 - val_loss: 0.0917\n",
      "Epoch 66/100\n",
      "4/4 [==============================] - 0s 24ms/step - loss: 0.0646 - val_loss: 0.0916\n",
      "Epoch 67/100\n",
      "4/4 [==============================] - 0s 24ms/step - loss: 0.0644 - val_loss: 0.0915\n",
      "Epoch 68/100\n",
      "4/4 [==============================] - 0s 13ms/step - loss: 0.0643 - val_loss: 0.0914\n",
      "Epoch 69/100\n",
      "4/4 [==============================] - 0s 14ms/step - loss: 0.0641 - val_loss: 0.0913\n",
      "Epoch 70/100\n",
      "4/4 [==============================] - 0s 12ms/step - loss: 0.0640 - val_loss: 0.0912\n",
      "Epoch 71/100\n",
      "4/4 [==============================] - 0s 13ms/step - loss: 0.0638 - val_loss: 0.0911\n",
      "Epoch 72/100\n",
      "4/4 [==============================] - 0s 14ms/step - loss: 0.0637 - val_loss: 0.0911\n",
      "Epoch 73/100\n",
      "4/4 [==============================] - 0s 12ms/step - loss: 0.0636 - val_loss: 0.0910\n",
      "Epoch 74/100\n",
      "4/4 [==============================] - 0s 13ms/step - loss: 0.0635 - val_loss: 0.0908\n",
      "Epoch 75/100\n",
      "4/4 [==============================] - 0s 13ms/step - loss: 0.0633 - val_loss: 0.0907\n",
      "Epoch 76/100\n",
      "4/4 [==============================] - 0s 12ms/step - loss: 0.0632 - val_loss: 0.0905\n",
      "Epoch 77/100\n",
      "4/4 [==============================] - 0s 13ms/step - loss: 0.0631 - val_loss: 0.0902\n",
      "Epoch 78/100\n",
      "4/4 [==============================] - 0s 12ms/step - loss: 0.0630 - val_loss: 0.0900\n",
      "Epoch 79/100\n",
      "4/4 [==============================] - 0s 13ms/step - loss: 0.0628 - val_loss: 0.0899\n",
      "Epoch 80/100\n",
      "4/4 [==============================] - 0s 14ms/step - loss: 0.0627 - val_loss: 0.0897\n",
      "Epoch 81/100\n",
      "4/4 [==============================] - 0s 12ms/step - loss: 0.0626 - val_loss: 0.0895\n",
      "Epoch 82/100\n",
      "4/4 [==============================] - 0s 13ms/step - loss: 0.0624 - val_loss: 0.0894\n",
      "Epoch 83/100\n",
      "4/4 [==============================] - 0s 17ms/step - loss: 0.0623 - val_loss: 0.0892\n"
     ]
    },
    {
     "name": "stdout",
     "output_type": "stream",
     "text": [
      "Epoch 84/100\n",
      "4/4 [==============================] - 0s 12ms/step - loss: 0.0622 - val_loss: 0.0890\n",
      "Epoch 85/100\n",
      "4/4 [==============================] - 0s 13ms/step - loss: 0.0620 - val_loss: 0.0889\n",
      "Epoch 86/100\n",
      "4/4 [==============================] - 0s 13ms/step - loss: 0.0619 - val_loss: 0.0887\n",
      "Epoch 87/100\n",
      "4/4 [==============================] - 0s 12ms/step - loss: 0.0618 - val_loss: 0.0885\n",
      "Epoch 88/100\n",
      "4/4 [==============================] - 0s 15ms/step - loss: 0.0616 - val_loss: 0.0882\n",
      "Epoch 89/100\n",
      "4/4 [==============================] - 0s 12ms/step - loss: 0.0615 - val_loss: 0.0880\n",
      "Epoch 90/100\n",
      "4/4 [==============================] - 0s 12ms/step - loss: 0.0614 - val_loss: 0.0878\n",
      "Epoch 91/100\n",
      "4/4 [==============================] - 0s 12ms/step - loss: 0.0612 - val_loss: 0.0876\n",
      "Epoch 92/100\n",
      "4/4 [==============================] - 0s 12ms/step - loss: 0.0611 - val_loss: 0.0875\n",
      "Epoch 93/100\n",
      "4/4 [==============================] - 0s 14ms/step - loss: 0.0610 - val_loss: 0.0872\n",
      "Epoch 94/100\n",
      "4/4 [==============================] - 0s 18ms/step - loss: 0.0608 - val_loss: 0.0871\n",
      "Epoch 95/100\n",
      "4/4 [==============================] - 0s 20ms/step - loss: 0.0607 - val_loss: 0.0868\n",
      "Epoch 96/100\n",
      "4/4 [==============================] - 0s 12ms/step - loss: 0.0606 - val_loss: 0.0865\n",
      "Epoch 97/100\n",
      "4/4 [==============================] - 0s 12ms/step - loss: 0.0604 - val_loss: 0.0863\n",
      "Epoch 98/100\n",
      "4/4 [==============================] - 0s 17ms/step - loss: 0.0603 - val_loss: 0.0862\n",
      "Epoch 99/100\n",
      "4/4 [==============================] - 0s 11ms/step - loss: 0.0601 - val_loss: 0.0859\n",
      "Epoch 100/100\n",
      "4/4 [==============================] - 0s 13ms/step - loss: 0.0600 - val_loss: 0.0857\n"
     ]
    }
   ],
   "source": [
    "history=model.fit(X_train_trf,y_train,epochs=100,validation_split=0.2)"
   ]
  },
  {
   "cell_type": "code",
   "execution_count": 53,
   "id": "c6f80da4",
   "metadata": {},
   "outputs": [
    {
     "data": {
      "text/plain": [
       "[array([[ 0.40361544,  0.9753704 ,  0.29440498],\n",
       "        [ 0.4425029 , -0.42302892, -0.87597156],\n",
       "        [ 1.1005538 ,  1.1098421 , -0.08882165]], dtype=float32),\n",
       " array([0.14355126, 0.13464351, 0.        ], dtype=float32)]"
      ]
     },
     "execution_count": 53,
     "metadata": {},
     "output_type": "execute_result"
    }
   ],
   "source": [
    "model.layers[0].get_weights()"
   ]
  },
  {
   "cell_type": "code",
   "execution_count": 37,
   "id": "551b2721",
   "metadata": {},
   "outputs": [
    {
     "data": {
      "text/plain": [
       "[array([[-0.36002377,  0.17416593,  0.1700495 , -0.5866282 , -0.62068546,\n",
       "         -0.12580061, -0.00593041,  0.24169403,  0.5386169 ,  0.34148833,\n",
       "         -0.41719443, -0.89727485],\n",
       "        [-0.22967954, -0.45782465, -0.57551444,  0.15238877, -0.49570438,\n",
       "         -0.8169788 , -0.33952796, -0.09900718,  0.84785223,  0.49776638,\n",
       "         -0.14406541, -0.37641886],\n",
       "        [-0.14250058,  0.06654418, -0.26098028,  0.4335752 ,  0.3354606 ,\n",
       "          0.27697432,  0.4344645 ,  0.27923512, -0.5526149 , -0.13361141,\n",
       "          0.48042482,  0.02608865]], dtype=float32),\n",
       " array([ 0.08885607, -0.13228849, -0.14764117, -0.09121485, -0.12978725,\n",
       "        -0.15339376, -0.12784454,  0.10138033,  0.14290068, -0.03816212,\n",
       "        -0.14297085, -0.15541564], dtype=float32)]"
      ]
     },
     "execution_count": 37,
     "metadata": {},
     "output_type": "execute_result"
    }
   ],
   "source": [
    "model.layers[1].get_weights()"
   ]
  },
  {
   "cell_type": "code",
   "execution_count": 38,
   "id": "3d56790b",
   "metadata": {},
   "outputs": [
    {
     "name": "stdout",
     "output_type": "stream",
     "text": [
      "2/2 [==============================] - 0s 4ms/step\n"
     ]
    },
    {
     "data": {
      "text/plain": [
       "array([[0.96007425, 0.96031934, 0.9520003 , 0.96410555, 0.9538857 ,\n",
       "        0.959251  , 0.95453537],\n",
       "       [0.9593737 , 0.9600441 , 0.9518442 , 0.96388453, 0.9533991 ,\n",
       "        0.95890856, 0.9539587 ],\n",
       "       [0.9646614 , 0.9646144 , 0.9568072 , 0.9683501 , 0.9586031 ,\n",
       "        0.96352535, 0.95900327],\n",
       "       [0.986412  , 0.9853155 , 0.9807131 , 0.98791766, 0.9820783 ,\n",
       "        0.9844701 , 0.9816985 ],\n",
       "       [0.85263985, 0.8680296 , 0.85676867, 0.8664976 , 0.85565   ,\n",
       "        0.86887217, 0.8626725 ],\n",
       "       [0.8411182 , 0.85783875, 0.84654   , 0.8551519 , 0.845414  ,\n",
       "        0.8591258 , 0.85336685],\n",
       "       [0.9078213 , 0.9129972 , 0.90131533, 0.915024  , 0.903453  ,\n",
       "        0.91286474, 0.9075238 ],\n",
       "       [0.9160042 , 0.91943175, 0.9077004 , 0.9217615 , 0.9105801 ,\n",
       "        0.91926813, 0.9143521 ],\n",
       "       [0.8255747 , 0.84574383, 0.8350397 , 0.84186   , 0.83261156,\n",
       "        0.84729904, 0.84129536],\n",
       "       [0.975053  , 0.9744518 , 0.968003  , 0.9778658 , 0.9695623 ,\n",
       "        0.9733882 , 0.9694741 ],\n",
       "       [0.96532714, 0.96524215, 0.95751446, 0.96896654, 0.95929456,\n",
       "        0.9641511 , 0.9596592 ],\n",
       "       [0.94831294, 0.9467709 , 0.9360317 , 0.9500413 , 0.940502  ,\n",
       "        0.94635147, 0.9427467 ],\n",
       "       [0.8763092 , 0.88636833, 0.8744162 , 0.8863441 , 0.8754048 ,\n",
       "        0.8869182 , 0.88140714],\n",
       "       [0.9840189 , 0.98306674, 0.9780681 , 0.98589385, 0.97941184,\n",
       "        0.982144  , 0.9790444 ],\n",
       "       [0.97875965, 0.9778188 , 0.97182685, 0.98101926, 0.9734699 ,\n",
       "        0.97682804, 0.9733074 ],\n",
       "       [0.88276213, 0.89210767, 0.8802807 , 0.8926285 , 0.88125867,\n",
       "        0.89243746, 0.8867544 ],\n",
       "       [0.92387944, 0.92608464, 0.91453236, 0.9287495 , 0.9177597 ,\n",
       "        0.9258172 , 0.92111474],\n",
       "       [0.910931  , 0.91446906, 0.9023557 , 0.91640186, 0.90559804,\n",
       "        0.91452646, 0.9098752 ],\n",
       "       [0.7700678 , 0.79630905, 0.78635126, 0.78582466, 0.784038  ,\n",
       "        0.80034775, 0.79736614],\n",
       "       [0.95362496, 0.95451903, 0.9456526 , 0.9583285 , 0.9474722 ,\n",
       "        0.95346755, 0.94843096],\n",
       "       [0.85550725, 0.86832494, 0.85628265, 0.8664853 , 0.85694796,\n",
       "        0.86954236, 0.86447126],\n",
       "       [0.95362496, 0.95451903, 0.9456526 , 0.9583285 , 0.9474722 ,\n",
       "        0.95346755, 0.94843096],\n",
       "       [0.8411182 , 0.85783875, 0.84654   , 0.8551519 , 0.845414  ,\n",
       "        0.8591258 , 0.85336685],\n",
       "       [0.9899281 , 0.9888624 , 0.9850437 , 0.9910725 , 0.9862251 ,\n",
       "        0.9881244 , 0.98579186],\n",
       "       [0.7843192 , 0.8077987 , 0.79716665, 0.7987334 , 0.79577047,\n",
       "        0.8114468 , 0.8082966 ],\n",
       "       [0.83911425, 0.85411   , 0.84213424, 0.8506861 , 0.84254915,\n",
       "        0.85590154, 0.8512986 ],\n",
       "       [0.8057634 , 0.82493854, 0.8133416 , 0.81789714, 0.81343067,\n",
       "        0.8280499 , 0.82479113],\n",
       "       [0.91448283, 0.9185778 , 0.9069993 , 0.92092913, 0.9094474 ,\n",
       "        0.9183469 , 0.9131594 ],\n",
       "       [0.91948324, 0.92199475, 0.91017455, 0.92440015, 0.9135287 ,\n",
       "        0.9218608 , 0.9172384 ],\n",
       "       [0.92389286, 0.9270477 , 0.9159147 , 0.9299082 , 0.91832143,\n",
       "        0.92658347, 0.92135835],\n",
       "       [0.8391142 , 0.85411   , 0.84213424, 0.8506861 , 0.8425491 ,\n",
       "        0.85590154, 0.8512986 ],\n",
       "       [0.9593737 , 0.9600441 , 0.9518443 , 0.96388453, 0.9533991 ,\n",
       "        0.95890856, 0.9539587 ],\n",
       "       [0.98829985, 0.98720974, 0.9830135 , 0.98961294, 0.9842858 ,\n",
       "        0.9864179 , 0.9838724 ],\n",
       "       [0.85263985, 0.8680296 , 0.85676867, 0.8664976 , 0.85565   ,\n",
       "        0.86887217, 0.8626725 ]], dtype=float32)"
      ]
     },
     "execution_count": 38,
     "metadata": {},
     "output_type": "execute_result"
    }
   ],
   "source": [
    "model.predict(X_test_trf)"
   ]
  },
  {
   "cell_type": "code",
   "execution_count": 66,
   "id": "c6b26bc1",
   "metadata": {},
   "outputs": [
    {
     "name": "stdout",
     "output_type": "stream",
     "text": [
      "2/2 [==============================] - 0s 10ms/step\n"
     ]
    }
   ],
   "source": [
    "y_pred = model.predict(X_test_trf)"
   ]
  },
  {
   "cell_type": "code",
   "execution_count": 67,
   "id": "9c0af0ca",
   "metadata": {},
   "outputs": [
    {
     "data": {
      "text/plain": [
       "(1, 2)"
      ]
     },
     "execution_count": 67,
     "metadata": {},
     "output_type": "execute_result"
    }
   ],
   "source": [
    "y_test.ndim,y_pred.ndim"
   ]
  },
  {
   "cell_type": "code",
   "execution_count": 70,
   "id": "7076c9a7",
   "metadata": {},
   "outputs": [],
   "source": [
    "import numpy as np\n",
    "\n",
    "y_test= y_test.values.reshape(-1, 1)"
   ]
  },
  {
   "cell_type": "code",
   "execution_count": 71,
   "id": "6cf6e50e",
   "metadata": {},
   "outputs": [
    {
     "ename": "ValueError",
     "evalue": "Classification metrics can't handle a mix of binary and continuous-multioutput targets",
     "output_type": "error",
     "traceback": [
      "\u001b[1;31m---------------------------------------------------------------------------\u001b[0m",
      "\u001b[1;31mValueError\u001b[0m                                Traceback (most recent call last)",
      "Cell \u001b[1;32mIn[71], line 4\u001b[0m\n\u001b[0;32m      1\u001b[0m \u001b[38;5;28;01mfrom\u001b[39;00m \u001b[38;5;21;01msklearn\u001b[39;00m\u001b[38;5;21;01m.\u001b[39;00m\u001b[38;5;21;01mmetrics\u001b[39;00m \u001b[38;5;28;01mimport\u001b[39;00m accuracy_score, precision_score, recall_score, f1_score\n\u001b[0;32m      3\u001b[0m \u001b[38;5;66;03m# Accuracy\u001b[39;00m\n\u001b[1;32m----> 4\u001b[0m accuracy \u001b[38;5;241m=\u001b[39m \u001b[43maccuracy_score\u001b[49m\u001b[43m(\u001b[49m\u001b[43my_test\u001b[49m\u001b[43m,\u001b[49m\u001b[43m \u001b[49m\u001b[43my_pred\u001b[49m\u001b[43m)\u001b[49m\n\u001b[0;32m      5\u001b[0m \u001b[38;5;28mprint\u001b[39m(\u001b[38;5;124m\"\u001b[39m\u001b[38;5;124mAccuracy:\u001b[39m\u001b[38;5;124m\"\u001b[39m, accuracy)\n\u001b[0;32m      7\u001b[0m \u001b[38;5;66;03m# Precision\u001b[39;00m\n",
      "File \u001b[1;32m~\\AppData\\Local\\Programs\\Python\\Python310\\lib\\site-packages\\sklearn\\utils\\_param_validation.py:192\u001b[0m, in \u001b[0;36mvalidate_params.<locals>.decorator.<locals>.wrapper\u001b[1;34m(*args, **kwargs)\u001b[0m\n\u001b[0;32m    187\u001b[0m validate_parameter_constraints(\n\u001b[0;32m    188\u001b[0m     parameter_constraints, params, caller_name\u001b[38;5;241m=\u001b[39mfunc\u001b[38;5;241m.\u001b[39m\u001b[38;5;18m__qualname__\u001b[39m\n\u001b[0;32m    189\u001b[0m )\n\u001b[0;32m    191\u001b[0m \u001b[38;5;28;01mtry\u001b[39;00m:\n\u001b[1;32m--> 192\u001b[0m     \u001b[38;5;28;01mreturn\u001b[39;00m func(\u001b[38;5;241m*\u001b[39margs, \u001b[38;5;241m*\u001b[39m\u001b[38;5;241m*\u001b[39mkwargs)\n\u001b[0;32m    193\u001b[0m \u001b[38;5;28;01mexcept\u001b[39;00m InvalidParameterError \u001b[38;5;28;01mas\u001b[39;00m e:\n\u001b[0;32m    194\u001b[0m     \u001b[38;5;66;03m# When the function is just a wrapper around an estimator, we allow\u001b[39;00m\n\u001b[0;32m    195\u001b[0m     \u001b[38;5;66;03m# the function to delegate validation to the estimator, but we replace\u001b[39;00m\n\u001b[0;32m    196\u001b[0m     \u001b[38;5;66;03m# the name of the estimator by the name of the function in the error\u001b[39;00m\n\u001b[0;32m    197\u001b[0m     \u001b[38;5;66;03m# message to avoid confusion.\u001b[39;00m\n\u001b[0;32m    198\u001b[0m     msg \u001b[38;5;241m=\u001b[39m re\u001b[38;5;241m.\u001b[39msub(\n\u001b[0;32m    199\u001b[0m         \u001b[38;5;124mr\u001b[39m\u001b[38;5;124m\"\u001b[39m\u001b[38;5;124mparameter of \u001b[39m\u001b[38;5;124m\\\u001b[39m\u001b[38;5;124mw+ must be\u001b[39m\u001b[38;5;124m\"\u001b[39m,\n\u001b[0;32m    200\u001b[0m         \u001b[38;5;124mf\u001b[39m\u001b[38;5;124m\"\u001b[39m\u001b[38;5;124mparameter of \u001b[39m\u001b[38;5;132;01m{\u001b[39;00mfunc\u001b[38;5;241m.\u001b[39m\u001b[38;5;18m__qualname__\u001b[39m\u001b[38;5;132;01m}\u001b[39;00m\u001b[38;5;124m must be\u001b[39m\u001b[38;5;124m\"\u001b[39m,\n\u001b[0;32m    201\u001b[0m         \u001b[38;5;28mstr\u001b[39m(e),\n\u001b[0;32m    202\u001b[0m     )\n",
      "File \u001b[1;32m~\\AppData\\Local\\Programs\\Python\\Python310\\lib\\site-packages\\sklearn\\metrics\\_classification.py:221\u001b[0m, in \u001b[0;36maccuracy_score\u001b[1;34m(y_true, y_pred, normalize, sample_weight)\u001b[0m\n\u001b[0;32m    155\u001b[0m \u001b[38;5;250m\u001b[39m\u001b[38;5;124;03m\"\"\"Accuracy classification score.\u001b[39;00m\n\u001b[0;32m    156\u001b[0m \n\u001b[0;32m    157\u001b[0m \u001b[38;5;124;03mIn multilabel classification, this function computes subset accuracy:\u001b[39;00m\n\u001b[1;32m   (...)\u001b[0m\n\u001b[0;32m    217\u001b[0m \u001b[38;5;124;03m0.5\u001b[39;00m\n\u001b[0;32m    218\u001b[0m \u001b[38;5;124;03m\"\"\"\u001b[39;00m\n\u001b[0;32m    220\u001b[0m \u001b[38;5;66;03m# Compute accuracy for each possible representation\u001b[39;00m\n\u001b[1;32m--> 221\u001b[0m y_type, y_true, y_pred \u001b[38;5;241m=\u001b[39m \u001b[43m_check_targets\u001b[49m\u001b[43m(\u001b[49m\u001b[43my_true\u001b[49m\u001b[43m,\u001b[49m\u001b[43m \u001b[49m\u001b[43my_pred\u001b[49m\u001b[43m)\u001b[49m\n\u001b[0;32m    222\u001b[0m check_consistent_length(y_true, y_pred, sample_weight)\n\u001b[0;32m    223\u001b[0m \u001b[38;5;28;01mif\u001b[39;00m y_type\u001b[38;5;241m.\u001b[39mstartswith(\u001b[38;5;124m\"\u001b[39m\u001b[38;5;124mmultilabel\u001b[39m\u001b[38;5;124m\"\u001b[39m):\n",
      "File \u001b[1;32m~\\AppData\\Local\\Programs\\Python\\Python310\\lib\\site-packages\\sklearn\\metrics\\_classification.py:95\u001b[0m, in \u001b[0;36m_check_targets\u001b[1;34m(y_true, y_pred)\u001b[0m\n\u001b[0;32m     92\u001b[0m     y_type \u001b[38;5;241m=\u001b[39m {\u001b[38;5;124m\"\u001b[39m\u001b[38;5;124mmulticlass\u001b[39m\u001b[38;5;124m\"\u001b[39m}\n\u001b[0;32m     94\u001b[0m \u001b[38;5;28;01mif\u001b[39;00m \u001b[38;5;28mlen\u001b[39m(y_type) \u001b[38;5;241m>\u001b[39m \u001b[38;5;241m1\u001b[39m:\n\u001b[1;32m---> 95\u001b[0m     \u001b[38;5;28;01mraise\u001b[39;00m \u001b[38;5;167;01mValueError\u001b[39;00m(\n\u001b[0;32m     96\u001b[0m         \u001b[38;5;124m\"\u001b[39m\u001b[38;5;124mClassification metrics can\u001b[39m\u001b[38;5;124m'\u001b[39m\u001b[38;5;124mt handle a mix of \u001b[39m\u001b[38;5;132;01m{0}\u001b[39;00m\u001b[38;5;124m and \u001b[39m\u001b[38;5;132;01m{1}\u001b[39;00m\u001b[38;5;124m targets\u001b[39m\u001b[38;5;124m\"\u001b[39m\u001b[38;5;241m.\u001b[39mformat(\n\u001b[0;32m     97\u001b[0m             type_true, type_pred\n\u001b[0;32m     98\u001b[0m         )\n\u001b[0;32m     99\u001b[0m     )\n\u001b[0;32m    101\u001b[0m \u001b[38;5;66;03m# We can't have more than one value on y_type => The set is no more needed\u001b[39;00m\n\u001b[0;32m    102\u001b[0m y_type \u001b[38;5;241m=\u001b[39m y_type\u001b[38;5;241m.\u001b[39mpop()\n",
      "\u001b[1;31mValueError\u001b[0m: Classification metrics can't handle a mix of binary and continuous-multioutput targets"
     ]
    }
   ],
   "source": [
    "from sklearn.metrics import accuracy_score, precision_score, recall_score, f1_score\n",
    "\n",
    "# Accuracy\n",
    "accuracy = accuracy_score(y_test, y_pred)\n",
    "print(\"Accuracy:\", accuracy)\n",
    "\n",
    "# Precision\n",
    "precision = precision_score(y_test, y_pred)\n",
    "print(\"Precision:\", precision)\n",
    "\n",
    "# Recall\n",
    "recall = recall_score(y_test, y_pred)\n",
    "print(\"Recall:\", recall)\n",
    "\n",
    "# F1-score\n",
    "f1 = f1_score(y_test, y_pred)\n",
    "print(\"F1-score:\", f1)\n"
   ]
  },
  {
   "cell_type": "code",
   "execution_count": null,
   "id": "06cd8101",
   "metadata": {},
   "outputs": [],
   "source": []
  }
 ],
 "metadata": {
  "kernelspec": {
   "display_name": "Python 3 (ipykernel)",
   "language": "python",
   "name": "python3"
  },
  "language_info": {
   "codemirror_mode": {
    "name": "ipython",
    "version": 3
   },
   "file_extension": ".py",
   "mimetype": "text/x-python",
   "name": "python",
   "nbconvert_exporter": "python",
   "pygments_lexer": "ipython3",
   "version": "3.11.5"
  }
 },
 "nbformat": 4,
 "nbformat_minor": 5
}
